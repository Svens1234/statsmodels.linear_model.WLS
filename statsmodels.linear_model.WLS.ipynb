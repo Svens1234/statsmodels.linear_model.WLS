{
 "cells": [
  {
   "cell_type": "code",
   "execution_count": 31,
   "id": "3f16fb51",
   "metadata": {},
   "outputs": [],
   "source": [
    "import statsmodels.api as sm"
   ]
  },
  {
   "cell_type": "code",
   "execution_count": 32,
   "id": "3b17f7c9",
   "metadata": {},
   "outputs": [],
   "source": [
    "Y = [1,3,4,5,2,3,4]"
   ]
  },
  {
   "cell_type": "code",
   "execution_count": 33,
   "id": "294c9242",
   "metadata": {},
   "outputs": [],
   "source": [
    "X = range(1,8)"
   ]
  },
  {
   "cell_type": "code",
   "execution_count": 34,
   "id": "963379ef",
   "metadata": {},
   "outputs": [],
   "source": [
    "X = sm.add_constant(X)"
   ]
  },
  {
   "cell_type": "code",
   "execution_count": 35,
   "id": "7a7a49b1",
   "metadata": {},
   "outputs": [],
   "source": [
    "wls_model = sm.WLS(Y,X, weights=list(range(1,8)))"
   ]
  },
  {
   "cell_type": "code",
   "execution_count": 36,
   "id": "d6bf5ce9",
   "metadata": {},
   "outputs": [],
   "source": [
    "results = wls_model.fit()"
   ]
  },
  {
   "cell_type": "code",
   "execution_count": 37,
   "id": "bf23a96e",
   "metadata": {},
   "outputs": [
    {
     "data": {
      "text/plain": [
       "array([2.91666667, 0.0952381 ])"
      ]
     },
     "execution_count": 37,
     "metadata": {},
     "output_type": "execute_result"
    }
   ],
   "source": [
    "results.params"
   ]
  },
  {
   "cell_type": "code",
   "execution_count": 38,
   "id": "34364fd4",
   "metadata": {},
   "outputs": [
    {
     "data": {
      "text/plain": [
       "array([2.0652652 , 0.35684428])"
      ]
     },
     "execution_count": 38,
     "metadata": {},
     "output_type": "execute_result"
    }
   ],
   "source": [
    "results.tvalues"
   ]
  },
  {
   "cell_type": "code",
   "execution_count": 39,
   "id": "cbb7ebd2",
   "metadata": {},
   "outputs": [
    {
     "name": "stdout",
     "output_type": "stream",
     "text": [
      "                             Test for Constraints                             \n",
      "==============================================================================\n",
      "                 coef    std err          t      P>|t|      [0.025      0.975]\n",
      "------------------------------------------------------------------------------\n",
      "c0             2.9167      1.412      2.065      0.094      -0.714       6.547\n",
      "==============================================================================\n"
     ]
    }
   ],
   "source": [
    "print(results.t_test([1, 0]))"
   ]
  },
  {
   "cell_type": "code",
   "execution_count": 40,
   "id": "dc35d9dd",
   "metadata": {},
   "outputs": [
    {
     "name": "stdout",
     "output_type": "stream",
     "text": [
      "<F test: F=0.12733784321527908, p=0.7357740891833411, df_denom=5, df_num=1>\n"
     ]
    }
   ],
   "source": [
    "print(results.f_test([0, 1]))"
   ]
  },
  {
   "cell_type": "code",
   "execution_count": null,
   "id": "83b29ce0",
   "metadata": {},
   "outputs": [],
   "source": []
  }
 ],
 "metadata": {
  "kernelspec": {
   "display_name": "Python 3 (ipykernel)",
   "language": "python",
   "name": "python3"
  },
  "language_info": {
   "codemirror_mode": {
    "name": "ipython",
    "version": 3
   },
   "file_extension": ".py",
   "mimetype": "text/x-python",
   "name": "python",
   "nbconvert_exporter": "python",
   "pygments_lexer": "ipython3",
   "version": "3.8.7"
  }
 },
 "nbformat": 4,
 "nbformat_minor": 5
}
